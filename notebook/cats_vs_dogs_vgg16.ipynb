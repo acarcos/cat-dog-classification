{
  "cells": [
    {
      "cell_type": "markdown",
      "metadata": {
        "colab_type": "text",
        "id": "LsS_0XmaOjin"
      },
      "source": [
        "## **VGG16 Classification for Cats & Dogs using Transfer Learning.**"
      ]
    },
    {
      "cell_type": "code",
      "metadata": {
        "colab_type": "code",
        "id": "8FF8AFPFlfwe",
        "colab": {}
      },
      "source": [
        "# Libraries\n",
        "import numpy as np\n",
        "import pandas as pd\n",
        "import matplotlib.pyplot as plt\n",
        "import random\n",
        "from numpy.random import seed\n",
        "import os"
      ],
      "execution_count": null,
      "outputs": []
    },
    {
      "cell_type": "code",
      "metadata": {
        "colab_type": "code",
        "id": "Z0gLYlJHlpRE",
        "colab": {
          "base_uri": "https://localhost:8080/",
          "height": 34
        },
        "outputId": "07765bd6-bb25-4b56-fded-348596648807"
      },
      "source": [
        "# Deep learning utilities\n",
        "from keras.preprocessing.image import ImageDataGenerator, load_img\n",
        "from keras.utils import to_categorical\n",
        "from sklearn.model_selection import train_test_split\n",
        "from keras.applications import VGG16\n",
        "from keras.models import Model\n",
        "from keras.layers import Dropout, Flatten, Dense\n",
        "from keras.layers.convolutional import Conv2D, MaxPooling2D \n",
        "from keras import backend as K\n",
        "from keras import optimizers\n",
        "from skimage.transform import resize\n"
      ],
      "execution_count": null,
      "outputs": []
    },
    {
      "cell_type": "code",
      "metadata": {
        "colab_type": "code",
        "id": "7DB_r1onnrqR",
        "colab": {}
      },
      "source": [
        "# Data imported from Google Drive\n",
        "from google.colab import drive\n",
        "drive.mount('/content/drive')"
      ],
      "execution_count": null,
      "outputs": []
    },
    {
      "cell_type": "markdown",
      "metadata": {
        "colab_type": "text",
        "id": "q1bASGT-PYGf"
      },
      "source": [
        "Prepare data for training "
      ]
    },
    {
      "cell_type": "code",
      "metadata": {
        "colab_type": "code",
        "id": "7O2eNe2loCTz",
        "colab": {}
      },
      "source": [
        "# Get filenames with its respective classification and save into a dataframe\n",
        "filenames = os.listdir(\"/content/drive/My Drive/train_catsdogs\")\n",
        "\n",
        "categories = []\n",
        "\n",
        "for f_name in filenames:\n",
        "    category = f_name.split('.')[0]\n",
        "    if category == 'dog':\n",
        "        categories.append(1)\n",
        "    else:\n",
        "        categories.append(0)"
      ],
      "execution_count": null,
      "outputs": []
    },
    {
      "cell_type": "code",
      "metadata": {
        "colab_type": "code",
        "id": "AfYm81penutt",
        "colab": {
          "base_uri": "https://localhost:8080/",
          "height": 197
        },
        "outputId": "84a296e6-8c03-4dcf-a5a0-6cb3764dd6a9"
      },
      "source": [
        "df = pd.DataFrame({'filename': filenames, 'category': categories})\n",
        "df.head()"
      ],
      "execution_count": null,
      "outputs": []
    },
    {
      "cell_type": "code",
      "metadata": {
        "colab_type": "code",
        "id": "Wwz4t8lhoO29",
        "colab": {
          "base_uri": "https://localhost:8080/",
          "height": 281
        },
        "outputId": "4c775f94-3129-4438-e9c6-7dd534fa5d1e"
      },
      "source": [
        "# Number of data per class\n",
        "df['category'].value_counts().plot.bar()"
      ],
      "execution_count": null,
      "outputs": []
    },
    {
      "cell_type": "code",
      "metadata": {
        "colab_type": "code",
        "id": "DyQm2pmqoUAr",
        "colab": {
          "base_uri": "https://localhost:8080/",
          "height": 286
        },
        "outputId": "7f5461b3-1644-4dfc-9056-b615a960aa5c"
      },
      "source": [
        "# Visualize a sample of the traininng data\n",
        "sample = random.choice(filenames)\n",
        "image = load_img(\"/content/drive/My Drive/train_catsdogs/\" + sample)\n",
        "plt.imshow(image)"
      ],
      "execution_count": null,
      "outputs": []
    },
    {
      "cell_type": "code",
      "metadata": {
        "colab_type": "code",
        "id": "PQm9MkiloYf4",
        "colab": {}
      },
      "source": [
        "# Set parameters for images and training\n",
        "image_size = 224\n",
        "input_shape = (image_size, image_size, 3)\n",
        "epochs = 70 \n",
        "batch_size = 16 \n",
        "seed(1)"
      ],
      "execution_count": null,
      "outputs": []
    },
    {
      "cell_type": "code",
      "metadata": {
        "colab_type": "code",
        "id": "AOWCAaO1of3f",
        "colab": {
          "base_uri": "https://localhost:8080/",
          "height": 52
        },
        "outputId": "edb88f4b-c890-4b2a-e18c-ab62d348e865"
      },
      "source": [
        "# Keras VGG16 model\n",
        "model = VGG16(input_shape=input_shape, weights='imagenet', include_top=False)"
      ],
      "execution_count": null,
      "outputs": []
    },
    {
      "cell_type": "code",
      "metadata": {
        "colab_type": "code",
        "id": "WFuXUFdvzZYT",
        "colab": {}
      },
      "source": [
        "# Transfer learning\n",
        "for layer in model.layers:\n",
        "    layer.trainable = False"
      ],
      "execution_count": null,
      "outputs": []
    },
    {
      "cell_type": "code",
      "metadata": {
        "colab_type": "code",
        "id": "PZUVQcDEoiqe",
        "colab": {}
      },
      "source": [
        "# Develop structure in model\n",
        "x = model.output\n",
        "\n",
        "x = Conv2D(1, (1,1), activation='relu')(x)\n",
        "x = Flatten()(x)\n",
        "x = Dense(512, activation='relu')(x)\n",
        "x = Dropout(0.5)(x)\n",
        "x = Dense(1, activation='sigmoid')(x)\n",
        "\n",
        "model = Model(model.input, x)"
      ],
      "execution_count": null,
      "outputs": []
    },
    {
      "cell_type": "code",
      "metadata": {
        "colab_type": "code",
        "id": "WjcReAdbo5z4",
        "colab": {}
      },
      "source": [
        "# Set the classifiers parameters\n",
        "model.compile(loss='binary_crossentropy', optimizer='sgd', metrics=['accuracy'])"
      ],
      "execution_count": null,
      "outputs": []
    },
    {
      "cell_type": "code",
      "metadata": {
        "colab_type": "code",
        "id": "cjV6ZtkipZDX",
        "colab": {
          "base_uri": "https://localhost:8080/",
          "height": 1000
        },
        "outputId": "fb512174-d56a-40e5-fd17-fa32a467982c"
      },
      "source": [
        "# Summary\n",
        "model.summary()"
      ],
      "execution_count": null,
      "outputs": []
    },
    {
      "cell_type": "code",
      "metadata": {
        "colab_type": "code",
        "id": "SKUClDz1pbCg",
        "colab": {}
      },
      "source": [
        "# Prepare train data\n",
        "df[\"category\"] = df[\"category\"].replace({0:'cat',1:'dog'})"
      ],
      "execution_count": null,
      "outputs": []
    },
    {
      "cell_type": "code",
      "metadata": {
        "colab_type": "code",
        "id": "BTKb7IE-peDq",
        "colab": {}
      },
      "source": [
        "# Split into train and validation sets\n",
        "train_df, validate_df = train_test_split(df, test_size=0.10) "
      ],
      "execution_count": null,
      "outputs": []
    },
    {
      "cell_type": "code",
      "metadata": {
        "colab_type": "code",
        "id": "gc4JtardphmT",
        "colab": {
          "base_uri": "https://localhost:8080/",
          "height": 197
        },
        "outputId": "014e63eb-3d61-47c6-d39b-dfb96f8691ed"
      },
      "source": [
        "# Set dataframe with categories for training set\n",
        "train_df = train_df.reset_index()\n",
        "total_train = train_df.shape[0]\n",
        "train_df.head()"
      ],
      "execution_count": null,
      "outputs": []
    },
    {
      "cell_type": "code",
      "metadata": {
        "colab_type": "code",
        "id": "oLum4wn5poaz",
        "colab": {
          "base_uri": "https://localhost:8080/",
          "height": 34
        },
        "outputId": "0c539478-26f3-4302-9841-2a8e0550aa05"
      },
      "source": [
        "# Data augmentation in the training set\n",
        "train_datagen = ImageDataGenerator(rotation_range=15, rescale=1./255, shear_range=0.2, zoom_range=0.2, \n",
        "                                   horizontal_flip = True, width_shift_range=0.1, height_shift_range=0.1)\n",
        "train_generator = train_datagen.flow_from_dataframe(train_df, \"/content/drive/My Drive/train_catsdogs\", x_col='filename', y_col='category',\n",
        "                                                   target_size=(image_size, image_size), class_mode='binary', batch_size=batch_size)"
      ],
      "execution_count": null,
      "outputs": []
    },
    {
      "cell_type": "code",
      "metadata": {
        "colab_type": "code",
        "id": "XgpRLAujtyVW",
        "colab": {
          "base_uri": "https://localhost:8080/",
          "height": 890
        },
        "outputId": "416d8bee-d08f-4868-c5b0-730c0e4a9cf9"
      },
      "source": [
        "# Visualization on data augmentation\n",
        "example_df = train_df.sample(n=1).reset_index(drop=True)\n",
        "example_generator = train_datagen.flow_from_dataframe(example_df, \"/content/drive/My Drive/train_catsdogs\", x_col='filename',\n",
        "    y_col='category', target_size=(image_size, image_size))\n",
        "plt.figure(figsize=(12, 12))\n",
        "for i in range(0, 9):\n",
        "    plt.subplot(3, 3, i+1)\n",
        "    for X_batch, Y_batch in example_generator:\n",
        "        image = X_batch[0]\n",
        "        plt.imshow(image)\n",
        "        break\n",
        "plt.tight_layout()\n",
        "plt.savefig(\"/content/drive/My Drive/train_catsdogs/example.jpg\")"
      ],
      "execution_count": null,
      "outputs": []
    },
    {
      "cell_type": "code",
      "metadata": {
        "colab_type": "code",
        "id": "Gkbg5NdppwMu",
        "colab": {
          "base_uri": "https://localhost:8080/",
          "height": 34
        },
        "outputId": "e8450c12-8e66-4fc9-b131-c3fda047a16e"
      },
      "source": [
        "# Validation set preparation (same as training)\n",
        "validate_df = validate_df.reset_index()\n",
        "total_validate = validate_df.shape[0]\n",
        "validation_datagen = ImageDataGenerator(rescale=1./255)\n",
        "validation_generator = validation_datagen.flow_from_dataframe(validate_df, \"/content/drive/My Drive/train_catsdogs\", \n",
        "    x_col='filename', y_col='category', class_mode='binary', target_size=(image_size, image_size), batch_size=batch_size)"
      ],
      "execution_count": null,
      "outputs": []
    },
    {
      "cell_type": "code",
      "metadata": {
        "colab_type": "code",
        "id": "ggwJmDMkpz8v",
        "colab": {
          "base_uri": "https://localhost:8080/",
          "height": 1000
        },
        "outputId": "02265470-910c-41e9-86d6-abaf53cbad5d"
      },
      "source": [
        "# Training\n",
        "history = model.fit_generator(train_generator, epochs=epochs, validation_data=validation_generator, \n",
        "                              validation_steps=total_validate//batch_size, steps_per_epoch=total_train//batch_size)"
      ],
      "execution_count": null,
      "outputs": []
    },
    {
      "cell_type": "code",
      "metadata": {
        "colab_type": "code",
        "id": "eIgDx8moqcko",
        "colab": {
          "base_uri": "https://localhost:8080/",
          "height": 34
        },
        "outputId": "99c57897-a263-4803-e97b-98856e584385"
      },
      "source": [
        "# Best accuracy obtained\n",
        "loss, accuracy = model.evaluate_generator(validation_generator, total_validate//batch_size, workers=12)\n",
        "print(\"Accuracy = %f  ;  loss = %f \" % (accuracy, loss))"
      ],
      "execution_count": null,
      "outputs": []
    },
    {
      "cell_type": "code",
      "metadata": {
        "colab_type": "code",
        "id": "L4YfqU8IcMvH",
        "colab": {}
      },
      "source": [
        "# Save model\n",
        "model.save(\"/content/drive/My Drive/vgg16_catdog_trained.h5\")"
      ],
      "execution_count": null,
      "outputs": []
    },
    {
      "cell_type": "code",
      "metadata": {
        "colab_type": "code",
        "id": "TPCGI6Lvqg_9",
        "colab": {}
      },
      "source": [
        "# Testing the model\n",
        "test_filenames = os.listdir(\"/content/drive/My Drive/test_catsdogs\")\n",
        "test_df = pd.DataFrame({\n",
        "    'filename': test_filenames\n",
        "})\n",
        "nb_samples = test_df.shape[0]"
      ],
      "execution_count": null,
      "outputs": []
    },
    {
      "cell_type": "code",
      "metadata": {
        "colab_type": "code",
        "id": "HIyuzKwQqhOT",
        "colab": {
          "base_uri": "https://localhost:8080/",
          "height": 197
        },
        "outputId": "8a7fa7da-133f-47f1-a20d-900f77b84444"
      },
      "source": [
        "test_df.head()"
      ],
      "execution_count": null,
      "outputs": []
    },
    {
      "cell_type": "code",
      "metadata": {
        "colab_type": "code",
        "id": "cATT50aqqovt",
        "colab": {
          "base_uri": "https://localhost:8080/",
          "height": 34
        },
        "outputId": "37b19b0b-ca69-4f72-d6d4-ee6e723abad4"
      },
      "source": [
        "# Prepare the images for testing. In this case, we don't have the category of images\n",
        "test_gen = ImageDataGenerator(rescale=1./255)\n",
        "test_generator = test_gen.flow_from_dataframe(test_df, \"/content/drive/My Drive/test_catsdogs\", x_col='filename',\n",
        "    y_col=None, class_mode=None, batch_size=batch_size, target_size=(image_size, image_size), shuffle=False)"
      ],
      "execution_count": null,
      "outputs": []
    },
    {
      "cell_type": "code",
      "metadata": {
        "colab_type": "code",
        "id": "lIwI5tx-qsCq",
        "colab": {}
      },
      "source": [
        "# Predictions\n",
        "predict = model.predict_generator(test_generator, steps=np.ceil(nb_samples/batch_size))\n",
        "threshold = 0.5\n",
        "test_df['category'] = np.where(predict > threshold, 1,0)"
      ],
      "execution_count": null,
      "outputs": []
    },
    {
      "cell_type": "code",
      "metadata": {
        "colab_type": "code",
        "id": "XCLjlN5yYXh0",
        "colab": {
          "base_uri": "https://localhost:8080/",
          "height": 873
        },
        "outputId": "c7c03192-abb8-47d9-baf0-1406bbf5b70d"
      },
      "source": [
        "# For testing images provided by the competition\n",
        "test_df[\"category\"] = test_df[\"category\"].replace({0:'cat',1:'dog'})\n",
        "sample_test = test_df.sample(n=9).reset_index()\n",
        "sample_test.head()\n",
        "plt.figure(figsize=(12, 12))\n",
        "for index, row in sample_test.iterrows():\n",
        "    filename = row['filename']\n",
        "    category = row['category']\n",
        "    img = load_img(\"/content/drive/My Drive/test_catsdogs/\"+filename, target_size=(256, 256))\n",
        "    plt.subplot(3, 3, index+1)\n",
        "    plt.imshow(img)\n",
        "    plt.xlabel(filename + '(' + \"{}\".format(category) + ')')\n",
        "plt.tight_layout()\n",
        "plt.savefig(\"/content/drive/My Drive/test_catsdogs/prediction2.jpg\")"
      ],
      "execution_count": null,
      "outputs": []
    },
    {
      "cell_type": "code",
      "metadata": {
        "colab_type": "code",
        "id": "rgq3qQRSZLaR",
        "colab": {}
      },
      "source": [
        "# Using a second testing set\n",
        "# Testing the model\n",
        "test_filenames_sec = os.listdir(\"/content/drive/My Drive/test2_catsdogs\")\n",
        "test_df_sec = pd.DataFrame({\n",
        "    'filename': test_filenames_sec\n",
        "})\n",
        "nb_samples_sec = test_df_sec.shape[0]"
      ],
      "execution_count": null,
      "outputs": []
    },
    {
      "cell_type": "code",
      "metadata": {
        "colab_type": "code",
        "id": "ZYcVwSUhZVDO",
        "colab": {
          "base_uri": "https://localhost:8080/",
          "height": 34
        },
        "outputId": "c4e0b275-6998-4848-deab-c868772443d6"
      },
      "source": [
        "test_gen_sec = ImageDataGenerator(rescale=1./255)\n",
        "test_generator_sec = test_gen_sec.flow_from_dataframe(test_df_sec, \"/content/drive/My Drive/test2_catsdogs\", x_col='filename',\n",
        "    y_col=None, class_mode=None, batch_size=batch_size, target_size=(image_size, image_size), shuffle=False)"
      ],
      "execution_count": null,
      "outputs": []
    },
    {
      "cell_type": "code",
      "metadata": {
        "colab_type": "code",
        "id": "pU1ae144ZYGX",
        "colab": {}
      },
      "source": [
        "# Predictions\n",
        "#test_df_sec = test_df.head(6)\n",
        "predict_sec = model.predict_generator(test_generator_sec, steps=np.ceil(nb_samples_sec/batch_size))\n",
        "test_df_sec['category'] = np.where(predict_sec > threshold, 1,0)"
      ],
      "execution_count": null,
      "outputs": []
    },
    {
      "cell_type": "code",
      "metadata": {
        "colab_type": "code",
        "id": "JQ9bQhOxqu_Q",
        "colab": {
          "base_uri": "https://localhost:8080/",
          "height": 873
        },
        "outputId": "d0b056cc-f037-47c7-f85c-e993531e417c"
      },
      "source": [
        "# Visualizations for extra testing data\n",
        "#test_df_sec = test_df.head(6)\n",
        "test_df_sec[\"category\"] = test_df_sec[\"category\"].replace({0:'cat',1:'dog'})\n",
        "sample_test_sec = test_df_sec.sample(n=9).reset_index()\n",
        "sample_test_sec.head()\n",
        "plt.figure(figsize=(12, 12))\n",
        "for index, row in sample_test_sec.iterrows():\n",
        "    filename = row['filename']\n",
        "    category = row['category']\n",
        "    img = load_img(\"/content/drive/My Drive/test2_catsdogs/\"+filename, target_size=(256, 256))\n",
        "    plt.subplot(3, 3, index+1)\n",
        "    plt.imshow(img)\n",
        "    plt.xlabel(filename + '(' + \"{}\".format(category) + ')')\n",
        "plt.tight_layout()\n",
        "plt.savefig(\"/content/drive/My Drive/test2_catsdogs/pred2.jpg\")"
      ],
      "execution_count": null,
      "outputs": []
    },
    {
      "cell_type": "code",
      "metadata": {
        "colab_type": "code",
        "id": "dPKi1V5DvPxQ",
        "colab": {}
      },
      "source": [
        ""
      ],
      "execution_count": null,
      "outputs": []
    }
  ],
  "metadata": {
    "accelerator": "GPU",
    "colab": {
      "name": "cats_vs_dogs_vgg16.ipynb",
      "provenance": [],
      "collapsed_sections": [],
      "toc_visible": true
    },
    "kernelspec": {
      "display_name": "Python 3",
      "language": "python",
      "name": "python3"
    },
    "language_info": {
      "codemirror_mode": {
        "name": "ipython",
        "version": 3
      },
      "file_extension": ".py",
      "mimetype": "text/x-python",
      "name": "python",
      "nbconvert_exporter": "python",
      "pygments_lexer": "ipython3",
      "version": "3.7.4"
    }
  },
  "nbformat": 4,
  "nbformat_minor": 0
}