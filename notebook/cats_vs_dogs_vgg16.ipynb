{
 "cells": [
  {
   "cell_type": "markdown",
   "metadata": {
    "colab_type": "text",
    "id": "LsS_0XmaOjin"
   },
   "source": [
    "## **VGG16 Classification for Cats & Dogs using Transfer Learning.**"
   ]
  },
  {
   "cell_type": "code",
   "execution_count": null,
   "metadata": {
    "colab": {},
    "colab_type": "code",
    "id": "8FF8AFPFlfwe"
   },
   "outputs": [],
   "source": [
    "# Libraries\n",
    "import numpy as np\n",
    "import pandas as pd\n",
    "import matplotlib.pyplot as plt\n",
    "import random\n",
    "from numpy.random import seed\n",
    "import os"
   ]
  },
  {
   "cell_type": "code",
   "execution_count": null,
   "metadata": {
    "colab": {
     "base_uri": "https://localhost:8080/",
     "height": 34
    },
    "colab_type": "code",
    "id": "Z0gLYlJHlpRE",
    "outputId": "87917fe6-44a6-45fe-9b10-cd9c2a2f0628"
   },
   "outputs": [],
   "source": [
    "# Deep learning utilities\n",
    "from keras.preprocessing.image import ImageDataGenerator, load_img\n",
    "from keras.utils import to_categorical\n",
    "from sklearn.model_selection import train_test_split\n",
    "from keras.applications import VGG16\n",
    "from keras.models import Model\n",
    "from keras.layers import Dropout, Flatten, Dense\n",
    "from keras.layers.convolutional import Conv2D, MaxPooling2D \n",
    "from keras import backend as K\n",
    "from keras import optimizers\n",
    "from skimage.transform import resize\n"
   ]
  },
  {
   "cell_type": "code",
   "execution_count": null,
   "metadata": {
    "colab": {
     "base_uri": "https://localhost:8080/",
     "height": 125
    },
    "colab_type": "code",
    "id": "7DB_r1onnrqR",
    "outputId": "15636ed9-8d80-47fb-dd46-8493b26b116e"
   },
   "outputs": [],
   "source": [
    "# Data imported from Google Drive\n",
    "from google.colab import drive\n",
    "drive.mount('/content/drive')"
   ]
  },
  {
   "cell_type": "markdown",
   "metadata": {
    "colab_type": "text",
    "id": "q1bASGT-PYGf"
   },
   "source": [
    "Prepare data for training "
   ]
  },
  {
   "cell_type": "code",
   "execution_count": null,
   "metadata": {
    "colab": {},
    "colab_type": "code",
    "id": "7O2eNe2loCTz"
   },
   "outputs": [],
   "source": [
    "# Get filenames with its respective classification and save into a dataframe\n",
    "filenames = os.listdir(\"/content/drive/My Drive/train_catsdogs\")\n",
    "\n",
    "categories = []\n",
    "\n",
    "for f_name in filenames:\n",
    "    category = f_name.split('.')[0]\n",
    "    if category == 'dog':\n",
    "        categories.append(1)\n",
    "    else:\n",
    "        categories.append(0)"
   ]
  },
  {
   "cell_type": "code",
   "execution_count": null,
   "metadata": {
    "colab": {
     "base_uri": "https://localhost:8080/",
     "height": 197
    },
    "colab_type": "code",
    "id": "AfYm81penutt",
    "outputId": "90567d8a-a0fa-4a61-fd41-d442bd77b3fb"
   },
   "outputs": [],
   "source": [
    "df = pd.DataFrame({'filename': filenames, 'category': categories})\n",
    "df.head()"
   ]
  },
  {
   "cell_type": "code",
   "execution_count": null,
   "metadata": {
    "colab": {
     "base_uri": "https://localhost:8080/",
     "height": 281
    },
    "colab_type": "code",
    "id": "Wwz4t8lhoO29",
    "outputId": "fa7cf7c8-2c3c-44a4-a89a-493cf6dc85d5"
   },
   "outputs": [],
   "source": [
    "# Number of data per class\n",
    "df['category'].value_counts().plot.bar()"
   ]
  },
  {
   "cell_type": "code",
   "execution_count": null,
   "metadata": {
    "colab": {
     "base_uri": "https://localhost:8080/",
     "height": 286
    },
    "colab_type": "code",
    "id": "DyQm2pmqoUAr",
    "outputId": "ab6416f0-29e0-4f19-e976-4b07ee89e428"
   },
   "outputs": [],
   "source": [
    "# Visualize a sample of the traininng data\n",
    "sample = random.choice(filenames)\n",
    "image = load_img(\"/content/drive/My Drive/train_catsdogs/\" + sample)\n",
    "plt.imshow(image)"
   ]
  },
  {
   "cell_type": "code",
   "execution_count": null,
   "metadata": {
    "colab": {},
    "colab_type": "code",
    "id": "PQm9MkiloYf4"
   },
   "outputs": [],
   "source": [
    "# Set parameters for images and training\n",
    "image_size = 224\n",
    "input_shape = (image_size, image_size, 3)\n",
    "epochs = 70 \n",
    "batch_size = 16 \n",
    "seed(1)"
   ]
  },
  {
   "cell_type": "code",
   "execution_count": null,
   "metadata": {
    "colab": {
     "base_uri": "https://localhost:8080/",
     "height": 52
    },
    "colab_type": "code",
    "id": "AOWCAaO1of3f",
    "outputId": "2ad823d6-7250-4aa3-9b1f-e07052aea498"
   },
   "outputs": [],
   "source": [
    "# Keras VGG16 model\n",
    "model = VGG16(input_shape=input_shape, weights='imagenet', include_top=False)"
   ]
  },
  {
   "cell_type": "code",
   "execution_count": null,
   "metadata": {
    "colab": {},
    "colab_type": "code",
    "id": "WFuXUFdvzZYT"
   },
   "outputs": [],
   "source": [
    "# Transfer learning\n",
    "for layer in model.layers:\n",
    "    layer.trainable = False"
   ]
  },
  {
   "cell_type": "code",
   "execution_count": null,
   "metadata": {
    "colab": {},
    "colab_type": "code",
    "id": "PZUVQcDEoiqe"
   },
   "outputs": [],
   "source": [
    "# Develop structure in model\n",
    "x = model.output\n",
    "\n",
    "x = Conv2D(1, (1,1), activation='relu')(x)\n",
    "x = Flatten()(x)\n",
    "x = Dense(512, activation='relu')(x)\n",
    "x = Dropout(0.5)(x)\n",
    "x = Dense(1, activation='sigmoid')(x)\n",
    "\n",
    "model = Model(model.input, x)"
   ]
  },
  {
   "cell_type": "code",
   "execution_count": null,
   "metadata": {
    "colab": {},
    "colab_type": "code",
    "id": "WjcReAdbo5z4"
   },
   "outputs": [],
   "source": [
    "# Set the classifiers parameters\n",
    "model.compile(loss='binary_crossentropy', optimizer='sgd', metrics=['accuracy'])"
   ]
  },
  {
   "cell_type": "code",
   "execution_count": null,
   "metadata": {
    "colab": {
     "base_uri": "https://localhost:8080/",
     "height": 1000
    },
    "colab_type": "code",
    "id": "cjV6ZtkipZDX",
    "outputId": "04aec421-0efd-44f2-cbdd-56291e37966f"
   },
   "outputs": [],
   "source": [
    "# Summary\n",
    "model.summary()"
   ]
  },
  {
   "cell_type": "code",
   "execution_count": null,
   "metadata": {
    "colab": {},
    "colab_type": "code",
    "id": "SKUClDz1pbCg"
   },
   "outputs": [],
   "source": [
    "# Prepare train data\n",
    "df[\"category\"] = df[\"category\"].replace({0:'cat',1:'dog'})"
   ]
  },
  {
   "cell_type": "code",
   "execution_count": null,
   "metadata": {
    "colab": {},
    "colab_type": "code",
    "id": "BTKb7IE-peDq"
   },
   "outputs": [],
   "source": [
    "# Split into train and validation sets\n",
    "train_df, validate_df = train_test_split(df, test_size=0.10) "
   ]
  },
  {
   "cell_type": "code",
   "execution_count": null,
   "metadata": {
    "colab": {
     "base_uri": "https://localhost:8080/",
     "height": 197
    },
    "colab_type": "code",
    "id": "gc4JtardphmT",
    "outputId": "eb04331b-2c2c-4de2-cb20-5afa403217b0"
   },
   "outputs": [],
   "source": [
    "# Set dataframe with categories for training set\n",
    "train_df = train_df.reset_index()\n",
    "total_train = train_df.shape[0]\n",
    "train_df.head()"
   ]
  },
  {
   "cell_type": "code",
   "execution_count": null,
   "metadata": {
    "colab": {
     "base_uri": "https://localhost:8080/",
     "height": 34
    },
    "colab_type": "code",
    "id": "oLum4wn5poaz",
    "outputId": "68d04a7c-68b9-4322-e374-35f9d752f6aa"
   },
   "outputs": [],
   "source": [
    "# Data augmentation in the training set\n",
    "train_datagen = ImageDataGenerator(rotation_range=15, rescale=1./255, shear_range=0.2, zoom_range=0.2, \n",
    "                                   horizontal_flip = True, width_shift_range=0.1, height_shift_range=0.1)\n",
    "train_generator = train_datagen.flow_from_dataframe(train_df, \"/content/drive/My Drive/train_catsdogs\", x_col='filename', y_col='category',\n",
    "                                                   target_size=(image_size, image_size), class_mode='binary', batch_size=batch_size)"
   ]
  },
  {
   "cell_type": "code",
   "execution_count": null,
   "metadata": {
    "colab": {
     "base_uri": "https://localhost:8080/",
     "height": 889
    },
    "colab_type": "code",
    "id": "XgpRLAujtyVW",
    "outputId": "98129a04-424a-49a4-baa3-e86915d73f19"
   },
   "outputs": [],
   "source": [
    "# Visualization on data augmentation\n",
    "example_df = train_df.sample(n=1).reset_index(drop=True)\n",
    "example_generator = train_datagen.flow_from_dataframe(example_df, \"/content/drive/My Drive/train_catsdogs\", x_col='filename',\n",
    "    y_col='category', target_size=(image_size, image_size))\n",
    "plt.figure(figsize=(12, 12))\n",
    "for i in range(0, 9):\n",
    "    plt.subplot(3, 3, i+1)\n",
    "    for X_batch, Y_batch in example_generator:\n",
    "        image = X_batch[0]\n",
    "        plt.imshow(image)\n",
    "        break\n",
    "plt.tight_layout()\n",
    "plt.savefig(\"/content/drive/My Drive/train_catsdogs/example.jpg\")"
   ]
  },
  {
   "cell_type": "code",
   "execution_count": null,
   "metadata": {
    "colab": {
     "base_uri": "https://localhost:8080/",
     "height": 34
    },
    "colab_type": "code",
    "id": "Gkbg5NdppwMu",
    "outputId": "160c152b-88cf-4534-9596-f81a829ab991"
   },
   "outputs": [],
   "source": [
    "# Validation set preparation (same as training)\n",
    "validate_df = validate_df.reset_index()\n",
    "total_validate = validate_df.shape[0]\n",
    "validation_datagen = ImageDataGenerator(rescale=1./255)\n",
    "validation_generator = validation_datagen.flow_from_dataframe(validate_df, \"/content/drive/My Drive/train_catsdogs\", \n",
    "    x_col='filename', y_col='category', class_mode='binary', target_size=(image_size, image_size), batch_size=batch_size)"
   ]
  },
  {
   "cell_type": "code",
   "execution_count": null,
   "metadata": {
    "colab": {
     "base_uri": "https://localhost:8080/",
     "height": 1000
    },
    "colab_type": "code",
    "id": "ggwJmDMkpz8v",
    "outputId": "8b19f8d2-80aa-4201-9e1f-90dca2b56f2a"
   },
   "outputs": [],
   "source": [
    "# Training\n",
    "history = model.fit_generator(train_generator, epochs=epochs, validation_data=validation_generator, \n",
    "                              validation_steps=total_validate//batch_size, steps_per_epoch=total_train//batch_size)"
   ]
  },
  {
   "cell_type": "code",
   "execution_count": null,
   "metadata": {
    "colab": {
     "base_uri": "https://localhost:8080/",
     "height": 34
    },
    "colab_type": "code",
    "id": "eIgDx8moqcko",
    "outputId": "ea5425bc-265a-47e9-8139-2ef26e9a16f2"
   },
   "outputs": [],
   "source": [
    "# Best accuracy obtained\n",
    "loss, accuracy = model.evaluate_generator(validation_generator, total_validate//batch_size, workers=12)\n",
    "print(\"Accuracy = %f  ;  loss = %f \" % (accuracy, loss))"
   ]
  },
  {
   "cell_type": "code",
   "execution_count": null,
   "metadata": {
    "colab": {},
    "colab_type": "code",
    "id": "L4YfqU8IcMvH"
   },
   "outputs": [],
   "source": [
    "# Save model\n",
    "model.save(\"/content/drive/My Drive/vgg16_catdog_trained.h5\")"
   ]
  },
  {
   "cell_type": "code",
   "execution_count": null,
   "metadata": {
    "colab": {},
    "colab_type": "code",
    "id": "TPCGI6Lvqg_9"
   },
   "outputs": [],
   "source": [
    "# Testing the model\n",
    "test_filenames = os.listdir(\"/content/drive/My Drive/test_catsdogs\")\n",
    "test_df = pd.DataFrame({\n",
    "    'filename': test_filenames\n",
    "})\n",
    "nb_samples = test_df.shape[0]"
   ]
  },
  {
   "cell_type": "code",
   "execution_count": null,
   "metadata": {
    "colab": {
     "base_uri": "https://localhost:8080/",
     "height": 197
    },
    "colab_type": "code",
    "id": "HIyuzKwQqhOT",
    "outputId": "424231f8-fc19-4abd-f01e-3144e7bf916e"
   },
   "outputs": [],
   "source": [
    "test_df.head()"
   ]
  },
  {
   "cell_type": "code",
   "execution_count": null,
   "metadata": {
    "colab": {
     "base_uri": "https://localhost:8080/",
     "height": 34
    },
    "colab_type": "code",
    "id": "cATT50aqqovt",
    "outputId": "392ee753-32d4-43fb-c86c-db489a138ee4"
   },
   "outputs": [],
   "source": [
    "# Prepare the images for testing. In this case, we don't have the category of images\n",
    "test_gen = ImageDataGenerator(rescale=1./255)\n",
    "test_generator = test_gen.flow_from_dataframe(test_df, \"/content/drive/My Drive/test_catsdogs\", x_col='filename',\n",
    "    y_col=None, class_mode=None, batch_size=batch_size, target_size=(image_size, image_size), shuffle=False)"
   ]
  },
  {
   "cell_type": "code",
   "execution_count": null,
   "metadata": {
    "colab": {},
    "colab_type": "code",
    "id": "lIwI5tx-qsCq"
   },
   "outputs": [],
   "source": [
    "# Predictions\n",
    "predict = model.predict_generator(test_generator, steps=np.ceil(nb_samples/batch_size))\n",
    "threshold = 0.5\n",
    "test_df['category'] = np.where(predict > threshold, 1,0)"
   ]
  },
  {
   "cell_type": "code",
   "execution_count": null,
   "metadata": {
    "colab": {
     "base_uri": "https://localhost:8080/",
     "height": 873
    },
    "colab_type": "code",
    "id": "XCLjlN5yYXh0",
    "outputId": "31f8e88b-c092-425a-c96d-21736e7ae888"
   },
   "outputs": [],
   "source": [
    "# For testing images provided by the competition\n",
    "sample_test = test_df.sample(n=9).reset_index()\n",
    "sample_test.head()\n",
    "plt.figure(figsize=(12, 12))\n",
    "for index, row in sample_test.iterrows():\n",
    "    filename = row['filename']\n",
    "    category = row['category']\n",
    "    img = load_img(\"/content/drive/My Drive/test_catsdogs/\"+filename, target_size=(256, 256))\n",
    "    plt.subplot(3, 3, index+1)\n",
    "    plt.imshow(img)\n",
    "    plt.xlabel(filename + '(' + \"{}\".format(category) + ')')\n",
    "plt.tight_layout()\n",
    "plt.savefig(\"/content/drive/My Drive/test_catsdogs/prediction2.jpg\")"
   ]
  },
  {
   "cell_type": "code",
   "execution_count": null,
   "metadata": {
    "colab": {},
    "colab_type": "code",
    "id": "rgq3qQRSZLaR"
   },
   "outputs": [],
   "source": [
    "# Using a second testing set\n",
    "# Testing the model\n",
    "test_filenames_sec = os.listdir(\"/content/drive/My Drive/test2_catsdogs\")\n",
    "test_df_sec = pd.DataFrame({\n",
    "    'filename': test_filenames_sec\n",
    "})\n",
    "nb_samples_sec = test_df_sec.shape[0]"
   ]
  },
  {
   "cell_type": "code",
   "execution_count": null,
   "metadata": {
    "colab": {
     "base_uri": "https://localhost:8080/",
     "height": 34
    },
    "colab_type": "code",
    "id": "ZYcVwSUhZVDO",
    "outputId": "dfa21fb6-f015-4da0-c988-381ec16d0efc"
   },
   "outputs": [],
   "source": [
    "test_gen_sec = ImageDataGenerator(rescale=1./255)\n",
    "test_generator_sec = test_gen_sec.flow_from_dataframe(test_df_sec, \"/content/drive/My Drive/test2_catsdogs\", x_col='filename',\n",
    "    y_col=None, class_mode=None, batch_size=batch_size, target_size=(image_size, image_size), shuffle=False)"
   ]
  },
  {
   "cell_type": "code",
   "execution_count": null,
   "metadata": {
    "colab": {},
    "colab_type": "code",
    "id": "pU1ae144ZYGX"
   },
   "outputs": [],
   "source": [
    "# Predictions\n",
    "#test_df_sec = test_df.head(6)\n",
    "predict_sec = model.predict_generator(test_generator_sec, steps=np.ceil(nb_samples_sec/batch_size))\n",
    "test_df_sec['category'] = np.where(predict_sec > threshold, 1,0)"
   ]
  },
  {
   "cell_type": "code",
   "execution_count": null,
   "metadata": {
    "colab": {
     "base_uri": "https://localhost:8080/",
     "height": 873
    },
    "colab_type": "code",
    "id": "JQ9bQhOxqu_Q",
    "outputId": "bab5ced0-88b6-47c3-af92-61aa353bbdbf"
   },
   "outputs": [],
   "source": [
    "# Visualizations for extra testing data\n",
    "#test_df_sec = test_df.head(6)\n",
    "\n",
    "sample_test_sec = test_df_sec.sample(n=9).reset_index()\n",
    "sample_test_sec.head()\n",
    "plt.figure(figsize=(12, 12))\n",
    "for index, row in sample_test_sec.iterrows():\n",
    "    filename = row['filename']\n",
    "    category = row['category']\n",
    "    img = load_img(\"/content/drive/My Drive/test2_catsdogs/\"+filename, target_size=(256, 256))\n",
    "    plt.subplot(3, 3, index+1)\n",
    "    plt.imshow(img)\n",
    "    plt.xlabel(filename + '(' + \"{}\".format(category) + ')')\n",
    "plt.tight_layout()\n",
    "plt.savefig(\"/content/drive/My Drive/test2_catsdogs/pred2.jpg\")"
   ]
  },
  {
   "cell_type": "code",
   "execution_count": null,
   "metadata": {
    "colab": {},
    "colab_type": "code",
    "id": "dPKi1V5DvPxQ"
   },
   "outputs": [],
   "source": []
  }
 ],
 "metadata": {
  "accelerator": "GPU",
  "colab": {
   "collapsed_sections": [],
   "name": "cats_vs_dogs_vgg16_ofmodel.ipynb",
   "provenance": [],
   "toc_visible": true
  },
  "kernelspec": {
   "display_name": "Python 3",
   "language": "python",
   "name": "python3"
  },
  "language_info": {
   "codemirror_mode": {
    "name": "ipython",
    "version": 3
   },
   "file_extension": ".py",
   "mimetype": "text/x-python",
   "name": "python",
   "nbconvert_exporter": "python",
   "pygments_lexer": "ipython3",
   "version": "3.7.4"
  }
 },
 "nbformat": 4,
 "nbformat_minor": 1
}
